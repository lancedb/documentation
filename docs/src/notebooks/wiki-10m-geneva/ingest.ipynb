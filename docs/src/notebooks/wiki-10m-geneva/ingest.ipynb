{
 "cells": [
  {
   "cell_type": "markdown",
   "id": "335e4462-b997-4379-9be6-b0741d908d5f",
   "metadata": {},
   "source": [
    "## Ingest Wikipedia in a few mins!\n",
    "\n",
    "TODO: add Wiki app screenshot\n",
    "\n",
    "In this guide, we'll see how you can embed and  ingest Wikipedia dataset to LanceDB table using Geneva for autoscaling your embedding/ingestion jobs.\n",
    "You can explore the end result of a similar experiment using this app \"Wiki fact check\". In this notebook, we'll only cover building the embedding, ingesetion and retrieval pipeline. Let's get started"
   ]
  },
  {
   "cell_type": "code",
   "execution_count": null,
   "id": "a6dd7477-bc3a-4261-a301-37533d6d5f28",
   "metadata": {
    "tags": []
   },
   "outputs": [],
   "source": [
    "# Install required libraries\n",
    "!pip install geneva transformers sentence-transformers"
   ]
  },
  {
   "cell_type": "markdown",
   "id": "6400a1d5-03cb-4ed4-bc4d-bb1eb11a473a",
   "metadata": {},
   "source": [
    "### [optional] Check GCP permissions\n",
    "In this notebook we'll use GCP for compute. You can verify you have the right cluster access using these commands:\n",
    "\n",
    "```\n",
    "!sudo apt-get install -y google-cloud-sdk-gke-gcloud-auth-plugin\n",
    "\n",
    "!gcloud container clusters get-credentials geneva-integ \\\n",
    "  --region us-central1 \\\n",
    "  --project lancedb-dev-us-central1\n",
    "  \n",
    "!kubectl config get-contexts\n",
    "\n",
    "!kubectl get namespaces\n",
    "```"
   ]
  },
  {
   "cell_type": "markdown",
   "id": "a6ba2923-90da-4c95-b650-4db09017b0d5",
   "metadata": {},
   "source": [
    "### Setup LanceDB table\n",
    "We'll ingest in a LanceDB data by chunking the text content into chunks of 512 characters. The code to download and upload the dataset to gcs bucket is provided in `upload_gcs.py` util file. "
   ]
  },
  {
   "cell_type": "code",
   "execution_count": 1,
   "id": "6308bee0-0586-4a17-aa49-96e09d39cd36",
   "metadata": {
    "tags": []
   },
   "outputs": [
    {
     "data": {
      "application/vnd.jupyter.widget-view+json": {
       "model_id": "f310c709441841e58fb535b749da06ca",
       "version_major": 2,
       "version_minor": 0
      },
      "text/plain": [
       "Loading dataset from disk:   0%|          | 0/41 [00:00<?, ?it/s]"
      ]
     },
     "metadata": {},
     "output_type": "display_data"
    }
   ],
   "source": [
    "from datasets import load_from_disk, disable_caching\n",
    "\n",
    "disable_caching()\n",
    "DATASET_PATH = \"gs://wikipedia-geneva/train\"\n",
    "CHUNK_SIZE = 512\n",
    "ds = load_from_disk(DATASET_PATH)\n",
    "\n"
   ]
  },
  {
   "cell_type": "code",
   "execution_count": 2,
   "id": "13f77fc3-c00b-4c07-aef1-7659dae04a01",
   "metadata": {
    "tags": []
   },
   "outputs": [],
   "source": [
    "def process_batch(num_chunks=100_000):\n",
    "    chunks = []\n",
    "    total_chars = 0\n",
    "    processed = 0\n",
    "\n",
    "    # Generate all chunks first\n",
    "    for text, doc_id, url, title in zip(ds[\"text\"], ds[\"id\"], \n",
    "                                      ds[\"url\"], ds[\"title\"]):\n",
    "        total_chars += len(text)\n",
    "        for idx, i in enumerate(range(0, len(text), CHUNK_SIZE)):\n",
    "            chunks.append({\n",
    "                \"content\": text[i:i + CHUNK_SIZE],\n",
    "                \"identifier\": doc_id,\n",
    "                \"url\": url,\n",
    "                \"title\": title,\n",
    "                \"chunk_index\": idx\n",
    "            })\n",
    "            if len(chunks) >= num_chunks:\n",
    "                return chunks\n",
    "    return chunks"
   ]
  },
  {
   "cell_type": "code",
   "execution_count": 17,
   "id": "22cc36a1-4880-4e5e-b82d-ad1e52d574bb",
   "metadata": {
    "tags": []
   },
   "outputs": [],
   "source": [
    "num_rows = 100_000_00\n",
    "chunks = process_batch(num_rows)"
   ]
  },
  {
   "cell_type": "code",
   "execution_count": 18,
   "id": "7c418d9b-fec8-48ad-9880-3e73254f7111",
   "metadata": {},
   "outputs": [
    {
     "data": {
      "text/plain": [
       "10000000"
      ]
     },
     "execution_count": 18,
     "metadata": {},
     "output_type": "execute_result"
    }
   ],
   "source": [
    "len(chunks)"
   ]
  },
  {
   "cell_type": "code",
   "execution_count": 19,
   "id": "c829fcb4-66c9-4210-89d1-89a0a1b17ff8",
   "metadata": {},
   "outputs": [
    {
     "name": "stderr",
     "output_type": "stream",
     "text": [
      "\u001b[90m[\u001b[0m2025-06-17T13:43:54Z \u001b[33mWARN \u001b[0m lance::dataset::write::insert\u001b[90m]\u001b[0m No existing dataset at gs://wikipedia-geneva/db/wiki-10m.lance?, it will be created\n"
     ]
    }
   ],
   "source": [
    "# We'll ingest data in batches, which is completely optional. Ingesting in batched mode is done to see more interactive progress bars\n",
    "# for demonstration purpose.\n",
    "\n",
    "import geneva\n",
    "import pyarrow as pa\n",
    "\n",
    "LANCEDB_URI = \"gs://wikipedia-geneva/db\"\n",
    "\n",
    "db = geneva.connect(LANCEDB_URI)\n",
    "\n",
    "# Define schema for the table\n",
    "schema = pa.schema([\n",
    "    (\"content\", pa.string()),\n",
    "    (\"identifier\", pa.string()),\n",
    "    (\"url\", pa.string()),\n",
    "    (\"title\", pa.string()),\n",
    "    (\"chunk_index\", pa.int32())\n",
    "])\n",
    "\n",
    "tbl = db.create_table(\"wiki-10m\", schema=schema, mode=\"overwrite\")\n",
    "for i in range(0, num_rows, 100_000):\n",
    "    tbl.add(chunks[i: i + 100_000])"
   ]
  },
  {
   "cell_type": "code",
   "execution_count": 2,
   "id": "792fb07b-1e7b-4c05-b529-05736d537a76",
   "metadata": {
    "tags": []
   },
   "outputs": [],
   "source": [
    "db = geneva.connect(LANCEDB_URI)\n",
    "tbl = db[\"wiki-10m\"]"
   ]
  },
  {
   "cell_type": "code",
   "execution_count": 21,
   "id": "ac18f6ae-5a6f-49db-b238-24314860b2af",
   "metadata": {
    "tags": []
   },
   "outputs": [],
   "source": [
    "del chunks"
   ]
  },
  {
   "cell_type": "code",
   "execution_count": 22,
   "id": "c9e0c579-52de-4f94-a77d-d8b8d94ca82f",
   "metadata": {
    "tags": []
   },
   "outputs": [
    {
     "data": {
      "text/plain": [
       "content: string\n",
       "identifier: string\n",
       "url: string\n",
       "title: string\n",
       "chunk_index: int32"
      ]
     },
     "execution_count": 22,
     "metadata": {},
     "output_type": "execute_result"
    }
   ],
   "source": [
    "tbl.schema"
   ]
  },
  {
   "cell_type": "code",
   "execution_count": 23,
   "id": "e308c362-164b-4045-a3b0-340e3d6b1591",
   "metadata": {
    "tags": []
   },
   "outputs": [
    {
     "data": {
      "text/plain": [
       "10000000"
      ]
     },
     "execution_count": 23,
     "metadata": {},
     "output_type": "execute_result"
    }
   ],
   "source": [
    "tbl.count_rows()"
   ]
  },
  {
   "cell_type": "markdown",
   "id": "8e19c37a-5e5e-43aa-9f72-f5870f099139",
   "metadata": {},
   "source": [
    "### [Optional] Set logging level\n",
    "Setting log level to debug can help you daignose problems if you run into any."
   ]
  },
  {
   "cell_type": "code",
   "execution_count": null,
   "id": "6cb6eb2f-9c01-4aec-bd0d-054cf31fe8ea",
   "metadata": {
    "tags": []
   },
   "outputs": [],
   "source": [
    "import logging\n",
    "import sys\n",
    "logging.basicConfig(level=logging.DEBUG, stream=sys.stderr, force=True) "
   ]
  },
  {
   "cell_type": "markdown",
   "id": "58bbe91d-f1a4-4c19-8c4b-0b39b4762a51",
   "metadata": {},
   "source": [
    "### Defining geneva UDF\n",
    "\n",
    "Geneva improves the productivity of AI engineers by streamlining feature engineering tasks. It is designed to reduce the time required to prototype, perform experiments, scale up, and move to production.\n",
    "\n",
    "Geneva uses Python **User Defined Functions (UDFs)** to define features as columns in a Lance dataset. Adding a feature is straightforward:\n",
    "\n",
    "1. Prototype your Python function in your favorite environment.\n",
    "2. Wrap the function with small UDF decorator.\n",
    "3. Register the UDF as a virtual column using Table.add_columns().\n",
    "4. Trigger a backfill operation.\n",
    "\n",
    "There are various kinds of UDFs you can use depending on the task type\n",
    "1. Row-level, stateless UDFs - You can use these when you're tasks don't need to be optimized with batch processing, and they don't require complex setup each time\n",
    "2. Row-level, stateful UDFs - You can use these when you're tasks don't need to be optimized with batch processing, and they require complex setup each time\n",
    "3. Batched, Statless UDFs - You can use these when batch processing is faster but you don't require complex setup each time.\n",
    "4. Batched, Stateful UDFs - You can use these when batch processing is faster AND you require complex setup (like loading model) for each batch.\n",
    "\n",
    "Read more about geneva UDFs here - https://lancedb.github.io/geneva/features/UDFs/\n",
    "\n",
    "In this example we'll use Batched, Stateful UDF \n",
    "\n",
    "NOTE: **cuda=True** means this UDF is meant to run on GPU nodes"
   ]
  },
  {
   "cell_type": "code",
   "execution_count": 24,
   "id": "65b578da-60fa-4531-895c-4c091f7f7b5a",
   "metadata": {
    "tags": []
   },
   "outputs": [],
   "source": [
    "from typing import Callable\n",
    "from sentence_transformers import SentenceTransformer\n",
    "import torch\n",
    "from geneva import udf\n",
    "\n",
    "\n",
    "@udf(data_type=pa.list_(pa.float32(), 384), cuda=True)\n",
    "class TextEmbedding(Callable):\n",
    "    def __init__(self, model: str = \"BAAI/bge-small-en-v1.5\"):\n",
    "        self.model_name = model\n",
    "        self.is_loaded = False\n",
    "    \n",
    "    def setup(self):\n",
    "        self.model = SentenceTransformer(self.model_name)     \n",
    "        self.is_loaded = True\n",
    "\n",
    "    def __call__(self, batch: pa.RecordBatch) -> pa.Array:\n",
    "        if not self.is_loaded:\n",
    "            self.setup()\n",
    "            \n",
    "        content = batch[\"content\"].to_pylist()\n",
    "        with torch.no_grad():\n",
    "            embeddings = self.model.encode(content, convert_to_tensor=True, normalize_embeddings=True)\n",
    "            embeddings = embeddings.cpu().tolist()\n",
    "        return pa.array(embeddings, pa.list_(pa.float32(), 384))"
   ]
  },
  {
   "cell_type": "markdown",
   "id": "f3e49ea4-a82f-4ef7-8753-dd2a5c9c4958",
   "metadata": {},
   "source": [
    "### Defining our compute Cluster\n",
    "\n",
    "Geneva support multiple backends. For this we'll use gcp kubernetes. Let's setup ray cluster config. It consists of Head node, a CPU worker, and a GPU worker.\n",
    "You can scale them to your liking."
   ]
  },
  {
   "cell_type": "code",
   "execution_count": 25,
   "id": "9362d21f-efb2-4b52-9d03-fe5c561d57dc",
   "metadata": {
    "tags": []
   },
   "outputs": [],
   "source": [
    "from geneva.runners.ray._mgr import ray_cluster\n",
    "from geneva.runners.ray.raycluster import RayCluster, _HeadGroupSpec, _WorkerGroupSpec\n",
    "from geneva.config import override_config\n",
    "from geneva.config.loader import from_kv\n",
    "\n",
    "\n",
    "k8s_name = \"ayush-k8\"\n",
    "k8s_namespace = \"geneva\"\n",
    "\n",
    "override_config(from_kv({\"uploader.upload_dir\": \"gs://wikipedia-geneva/zips\"}))\n",
    "\n",
    "cluster = ray_cluster(\n",
    "        name= k8s_name, \n",
    "        namespace=k8s_namespace,\n",
    "        head_group=_HeadGroupSpec(\n",
    "            service_account=\"geneva-integ-test\",\n",
    "            num_cpus=4,\n",
    "            memory=\"8G\",\n",
    "        ),\n",
    "        worker_groups=[\n",
    "            _WorkerGroupSpec(\n",
    "                name=\"cpu\",\n",
    "                num_cpus=16,\n",
    "                memory=\"32G\",\n",
    "                service_account=\"geneva-integ-test\",\n",
    "            ),\n",
    "            _WorkerGroupSpec(\n",
    "                name=\"gpu\",\n",
    "                num_cpus=8,\n",
    "                memory=\"32G\",\n",
    "                num_gpus=1,\n",
    "                service_account=\"geneva-integ-test\",\n",
    "            ),\n",
    "        ],\n",
    "    \n",
    "    )"
   ]
  },
  {
   "cell_type": "code",
   "execution_count": null,
   "id": "261467ca-0aee-4aa8-b572-d436b79cffb5",
   "metadata": {
    "tags": []
   },
   "outputs": [],
   "source": [
    "# this starts a cluster and zips your local env so that it can be reproduced in all the VMs in the cluster\n",
    "cluster.__enter__()"
   ]
  },
  {
   "cell_type": "markdown",
   "id": "5398f586-a508-474d-96ed-709ec18706e7",
   "metadata": {},
   "source": [
    "### Register the embedding column using UDF\n",
    "Registering a feature is done by providing the `Table.add_columns()` function a new column name and the Geneva UDF."
   ]
  },
  {
   "cell_type": "code",
   "execution_count": 27,
   "id": "be534a8b-563a-4a23-95a8-1060471eff9c",
   "metadata": {
    "tags": []
   },
   "outputs": [],
   "source": [
    "tbl.add_columns({\"embedding\": TextEmbedding()})"
   ]
  },
  {
   "cell_type": "markdown",
   "id": "d8c347b3-367d-453b-88d0-d14067045f43",
   "metadata": {},
   "source": [
    "### Run Backfill\n",
    "Triggering backfill creates a distributed job to run the UDF and populate the column values in your LanceDB table. The Geneva framework simplifies several aspects of distributed execution.\n",
    "\n",
    "**Environment management**: Geneva automatically packages and deploys your Python execution environment to worker nodes. This ensures that distributed execution occurs in the same environment and depedencies as your prototype.\n",
    "\n",
    "**Checkpoints**: Each batch of UDF execution is checkpointed so that partial results are not lost in case of job failures. Jobs can resume and avoid most of the expense of having to recalculate values.\n",
    "\n",
    "`backfill` accepts various params to customise scale of your workload, here we'll use:\n",
    "* **batch_size** of 5000 - Which determines the inference batch size \n",
    "* **concurrency** of 16 - Which determins how many GPU nodes used for parallelization"
   ]
  },
  {
   "cell_type": "code",
   "execution_count": 28,
   "id": "5b1c31b3-d0ac-4609-bb21-1d760b04893c",
   "metadata": {
    "tags": []
   },
   "outputs": [
    {
     "data": {
      "application/vnd.jupyter.widget-view+json": {
       "model_id": "3baba2b76eca44e5b9bcbf8942067d46",
       "version_major": 2,
       "version_minor": 0
      },
      "text/plain": [
       "  0%|          | 0/2000 [00:00<?, ?it/s]"
      ]
     },
     "metadata": {},
     "output_type": "display_data"
    },
    {
     "data": {
      "application/vnd.jupyter.widget-view+json": {
       "model_id": "b4aceaa01a46443e889ef341568c41e4",
       "version_major": 2,
       "version_minor": 0
      },
      "text/plain": [
       "  0%|          | 0/100 [00:00<?, ?it/s]"
      ]
     },
     "metadata": {},
     "output_type": "display_data"
    },
    {
     "name": "stderr",
     "output_type": "stream",
     "text": [
      "\u001b[90m[\u001b[0m2025-06-17T14:05:27Z \u001b[33mWARN \u001b[0m lance::dataset::transaction\u001b[90m]\u001b[0m Building manifest with DataReplacement operation. This operation is not stable yet, please use with caution.\n",
      "\u001b[90m[\u001b[0m2025-06-17T14:11:49Z \u001b[33mWARN \u001b[0m lance::dataset::transaction\u001b[90m]\u001b[0m Building manifest with DataReplacement operation. This operation is not stable yet, please use with caution.\n",
      "\u001b[90m[\u001b[0m2025-06-17T14:11:49Z \u001b[33mWARN \u001b[0m lance::dataset::transaction\u001b[90m]\u001b[0m Building manifest with DataReplacement operation. This operation is not stable yet, please use with caution.\n"
     ]
    }
   ],
   "source": [
    "tbl.backfill(\"embedding\", batch_size=5000, concurrency=16)"
   ]
  },
  {
   "cell_type": "markdown",
   "id": "cc2d7541-76fd-4449-aec8-7dbbde6428f7",
   "metadata": {},
   "source": [
    "### [optional] clear HF cache\n",
    "You might want to clear HF cache by running `clear_cache.py` util file. It clears the dataset cache so that it's not automatically picked up by geneva when packaging your env!"
   ]
  },
  {
   "cell_type": "code",
   "execution_count": 29,
   "id": "42c5ab4a-5806-4850-9264-830842a48c1b",
   "metadata": {
    "tags": []
   },
   "outputs": [
    {
     "data": {
      "text/plain": [
       "False"
      ]
     },
     "execution_count": 29,
     "metadata": {},
     "output_type": "execute_result"
    }
   ],
   "source": [
    "# Exit the cluster and release resources\n",
    "cluster.__exit__(None, None, None)"
   ]
  },
  {
   "cell_type": "markdown",
   "id": "91a9cf9c-f6c6-42ed-83f9-8856a29a0a4f",
   "metadata": {},
   "source": [
    "### Let's optimise the table and create an index for searching"
   ]
  },
  {
   "cell_type": "code",
   "execution_count": 4,
   "id": "a111dd08-7a4c-4941-9382-3f84870cec04",
   "metadata": {
    "tags": []
   },
   "outputs": [],
   "source": [
    "tbl.optimize()\n",
    "tbl.create_index(vector_column_name=\"embedding\")"
   ]
  },
  {
   "cell_type": "markdown",
   "id": "1cb9c9ef-3a32-411b-951c-2f05ab79fd1f",
   "metadata": {},
   "source": [
    "### Perform retreival"
   ]
  },
  {
   "cell_type": "code",
   "execution_count": 7,
   "id": "1fd592f1-3167-4afb-b157-66c35156e43a",
   "metadata": {
    "tags": []
   },
   "outputs": [
    {
     "data": {
      "text/plain": [
       "(384,)"
      ]
     },
     "execution_count": 7,
     "metadata": {},
     "output_type": "execute_result"
    }
   ],
   "source": [
    "tbl = tbl._ltbl\n",
    "query = \"what is a vector\"\n",
    "model = SentenceTransformer(\"BAAI/bge-small-en-v1.5\")     \n",
    "vector = model.encode([query], convert_to_tensor=True, normalize_embeddings=True).cpu().numpy()[0]\n",
    "vector.shape\n",
    "            "
   ]
  },
  {
   "cell_type": "code",
   "execution_count": 8,
   "id": "40ba0ff0-58a0-44cc-aec2-26be0f9babbd",
   "metadata": {
    "tags": []
   },
   "outputs": [
    {
     "data": {
      "text/html": [
       "<div>\n",
       "<style scoped>\n",
       "    .dataframe tbody tr th:only-of-type {\n",
       "        vertical-align: middle;\n",
       "    }\n",
       "\n",
       "    .dataframe tbody tr th {\n",
       "        vertical-align: top;\n",
       "    }\n",
       "\n",
       "    .dataframe thead th {\n",
       "        text-align: right;\n",
       "    }\n",
       "</style>\n",
       "<table border=\"1\" class=\"dataframe\">\n",
       "  <thead>\n",
       "    <tr style=\"text-align: right;\">\n",
       "      <th></th>\n",
       "      <th>content</th>\n",
       "      <th>identifier</th>\n",
       "      <th>url</th>\n",
       "      <th>title</th>\n",
       "      <th>chunk_index</th>\n",
       "      <th>embedding</th>\n",
       "      <th>_distance</th>\n",
       "    </tr>\n",
       "  </thead>\n",
       "  <tbody>\n",
       "    <tr>\n",
       "      <th>0</th>\n",
       "      <td>e of tensor.\\n\\nIn pure mathematics, a vector ...</td>\n",
       "      <td>32533</td>\n",
       "      <td>https://en.wikipedia.org/wiki/Euclidean%20vector</td>\n",
       "      <td>Euclidean vector</td>\n",
       "      <td>28</td>\n",
       "      <td>[-0.04118163, -0.031828538, -0.013418324, 0.01...</td>\n",
       "      <td>0.338192</td>\n",
       "    </tr>\n",
       "    <tr>\n",
       "      <th>1</th>\n",
       "      <td>Vector may refer to:\\n\\nBiology\\nVector (epide...</td>\n",
       "      <td>243816</td>\n",
       "      <td>https://en.wikipedia.org/wiki/Vector</td>\n",
       "      <td>Vector</td>\n",
       "      <td>0</td>\n",
       "      <td>[0.026708547, -0.045680013, 0.0049091275, 0.03...</td>\n",
       "      <td>0.352812</td>\n",
       "    </tr>\n",
       "    <tr>\n",
       "      <th>2</th>\n",
       "      <td>ype.\\n\\nVectors \\nVectors are physical quantit...</td>\n",
       "      <td>23204</td>\n",
       "      <td>https://en.wikipedia.org/wiki/Physical%20quantity</td>\n",
       "      <td>Physical quantity</td>\n",
       "      <td>5</td>\n",
       "      <td>[-0.052353792, -0.07202609, 0.015442002, -0.01...</td>\n",
       "      <td>0.375776</td>\n",
       "    </tr>\n",
       "    <tr>\n",
       "      <th>3</th>\n",
       "      <td>In mathematics, physics and engineering, a Euc...</td>\n",
       "      <td>32533</td>\n",
       "      <td>https://en.wikipedia.org/wiki/Euclidean%20vector</td>\n",
       "      <td>Euclidean vector</td>\n",
       "      <td>0</td>\n",
       "      <td>[-0.048410792, -0.057634044, 0.046941835, -0.0...</td>\n",
       "      <td>0.386303</td>\n",
       "    </tr>\n",
       "    <tr>\n",
       "      <th>4</th>\n",
       "      <td>l vector, the interval content of a given set ...</td>\n",
       "      <td>243816</td>\n",
       "      <td>https://en.wikipedia.org/wiki/Vector</td>\n",
       "      <td>Vector</td>\n",
       "      <td>11</td>\n",
       "      <td>[-0.020939205, -0.061921444, 0.014615878, 0.00...</td>\n",
       "      <td>0.400136</td>\n",
       "    </tr>\n",
       "    <tr>\n",
       "      <th>5</th>\n",
       "      <td>In mathematics and statistics, a probability v...</td>\n",
       "      <td>217133</td>\n",
       "      <td>https://en.wikipedia.org/wiki/Probability%20ve...</td>\n",
       "      <td>Probability vector</td>\n",
       "      <td>0</td>\n",
       "      <td>[-0.048714407, -0.06333104, -0.0123118125, 0.0...</td>\n",
       "      <td>0.409078</td>\n",
       "    </tr>\n",
       "    <tr>\n",
       "      <th>6</th>\n",
       "      <td>In linear algebra, a coordinate vector is a re...</td>\n",
       "      <td>879358</td>\n",
       "      <td>https://en.wikipedia.org/wiki/Coordinate%20vector</td>\n",
       "      <td>Coordinate vector</td>\n",
       "      <td>0</td>\n",
       "      <td>[-0.044985604, -0.049643297, -0.013043938, -0....</td>\n",
       "      <td>0.410997</td>\n",
       "    </tr>\n",
       "    <tr>\n",
       "      <th>7</th>\n",
       "      <td>In physics, a wave vector (also spelled waveve...</td>\n",
       "      <td>686036</td>\n",
       "      <td>https://en.wikipedia.org/wiki/Wave%20vector</td>\n",
       "      <td>Wave vector</td>\n",
       "      <td>0</td>\n",
       "      <td>[-0.0241238, -0.0714645, -0.022887865, 0.00534...</td>\n",
       "      <td>0.415834</td>\n",
       "    </tr>\n",
       "    <tr>\n",
       "      <th>8</th>\n",
       "      <td>protocols\\nDope vector, a data structure used...</td>\n",
       "      <td>243816</td>\n",
       "      <td>https://en.wikipedia.org/wiki/Vector</td>\n",
       "      <td>Vector</td>\n",
       "      <td>3</td>\n",
       "      <td>[-0.04756716, -0.03191846, 0.031988315, 0.0149...</td>\n",
       "      <td>0.421834</td>\n",
       "    </tr>\n",
       "    <tr>\n",
       "      <th>9</th>\n",
       "      <td>f certain email headers, \\nthe email structure...</td>\n",
       "      <td>1299404</td>\n",
       "      <td>https://en.wikipedia.org/wiki/Feature%20%28mac...</td>\n",
       "      <td>Feature (machine learning)</td>\n",
       "      <td>3</td>\n",
       "      <td>[-0.012206657, -0.041650396, -0.01602055, 0.00...</td>\n",
       "      <td>0.426480</td>\n",
       "    </tr>\n",
       "  </tbody>\n",
       "</table>\n",
       "</div>"
      ],
      "text/plain": [
       "                                             content identifier  \\\n",
       "0  e of tensor.\\n\\nIn pure mathematics, a vector ...      32533   \n",
       "1  Vector may refer to:\\n\\nBiology\\nVector (epide...     243816   \n",
       "2  ype.\\n\\nVectors \\nVectors are physical quantit...      23204   \n",
       "3  In mathematics, physics and engineering, a Euc...      32533   \n",
       "4  l vector, the interval content of a given set ...     243816   \n",
       "5  In mathematics and statistics, a probability v...     217133   \n",
       "6  In linear algebra, a coordinate vector is a re...     879358   \n",
       "7  In physics, a wave vector (also spelled waveve...     686036   \n",
       "8   protocols\\nDope vector, a data structure used...     243816   \n",
       "9  f certain email headers, \\nthe email structure...    1299404   \n",
       "\n",
       "                                                 url  \\\n",
       "0   https://en.wikipedia.org/wiki/Euclidean%20vector   \n",
       "1               https://en.wikipedia.org/wiki/Vector   \n",
       "2  https://en.wikipedia.org/wiki/Physical%20quantity   \n",
       "3   https://en.wikipedia.org/wiki/Euclidean%20vector   \n",
       "4               https://en.wikipedia.org/wiki/Vector   \n",
       "5  https://en.wikipedia.org/wiki/Probability%20ve...   \n",
       "6  https://en.wikipedia.org/wiki/Coordinate%20vector   \n",
       "7        https://en.wikipedia.org/wiki/Wave%20vector   \n",
       "8               https://en.wikipedia.org/wiki/Vector   \n",
       "9  https://en.wikipedia.org/wiki/Feature%20%28mac...   \n",
       "\n",
       "                        title  chunk_index  \\\n",
       "0            Euclidean vector           28   \n",
       "1                      Vector            0   \n",
       "2           Physical quantity            5   \n",
       "3            Euclidean vector            0   \n",
       "4                      Vector           11   \n",
       "5          Probability vector            0   \n",
       "6           Coordinate vector            0   \n",
       "7                 Wave vector            0   \n",
       "8                      Vector            3   \n",
       "9  Feature (machine learning)            3   \n",
       "\n",
       "                                           embedding  _distance  \n",
       "0  [-0.04118163, -0.031828538, -0.013418324, 0.01...   0.338192  \n",
       "1  [0.026708547, -0.045680013, 0.0049091275, 0.03...   0.352812  \n",
       "2  [-0.052353792, -0.07202609, 0.015442002, -0.01...   0.375776  \n",
       "3  [-0.048410792, -0.057634044, 0.046941835, -0.0...   0.386303  \n",
       "4  [-0.020939205, -0.061921444, 0.014615878, 0.00...   0.400136  \n",
       "5  [-0.048714407, -0.06333104, -0.0123118125, 0.0...   0.409078  \n",
       "6  [-0.044985604, -0.049643297, -0.013043938, -0....   0.410997  \n",
       "7  [-0.0241238, -0.0714645, -0.022887865, 0.00534...   0.415834  \n",
       "8  [-0.04756716, -0.03191846, 0.031988315, 0.0149...   0.421834  \n",
       "9  [-0.012206657, -0.041650396, -0.01602055, 0.00...   0.426480  "
      ]
     },
     "execution_count": 8,
     "metadata": {},
     "output_type": "execute_result"
    }
   ],
   "source": [
    "tbl.search(vector).to_pandas()"
   ]
  },
  {
   "cell_type": "code",
   "execution_count": null,
   "id": "7b72de41-4e9d-4f0b-bad6-a04738b14ddd",
   "metadata": {
    "tags": []
   },
   "outputs": [],
   "source": []
  }
 ],
 "metadata": {
  "environment": {
   "kernel": "conda-base-py",
   "name": "workbench-notebooks.m130",
   "type": "gcloud",
   "uri": "us-docker.pkg.dev/deeplearning-platform-release/gcr.io/workbench-notebooks:m130"
  },
  "kernelspec": {
   "display_name": "Python 3 (ipykernel) (Local)",
   "language": "python",
   "name": "conda-base-py"
  },
  "language_info": {
   "codemirror_mode": {
    "name": "ipython",
    "version": 3
   },
   "file_extension": ".py",
   "mimetype": "text/x-python",
   "name": "python",
   "nbconvert_exporter": "python",
   "pygments_lexer": "ipython3",
   "version": "3.10.18"
  }
 },
 "nbformat": 4,
 "nbformat_minor": 5
}
